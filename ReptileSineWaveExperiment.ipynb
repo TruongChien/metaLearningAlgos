{
 "cells": [
  {
   "cell_type": "code",
   "execution_count": 1,
   "metadata": {},
   "outputs": [],
   "source": [
    "import os\n",
    "import numpy as np\n",
    "import torch\n",
    "import torch.nn as nn\n",
    "import torch.nn.functional as F\n",
    "import torch.utils.data as td\n",
    "import torchvision as tv\n",
    "import matplotlib.pyplot as plt\n",
    "import numpy as np\n",
    "import random\n",
    "from torch.autograd import Variable"
   ]
  },
  {
   "cell_type": "markdown",
   "metadata": {},
   "source": [
    "Below I have defined a regressor class that defines our neural network that we will be using for this algorithm. This neural network is simply a series of fully conencted layers that uses Relu activation function for the hidden layers and a linear activation at the final layer. I have also defined a plot function that will plot the predicted points from a task. It'll be useful to see how well the model generalizes to new tasks."
   ]
  },
  {
   "cell_type": "code",
   "execution_count": 2,
   "metadata": {},
   "outputs": [],
   "source": [
    "class Regressor(nn.Module):\n",
    "    def __init__(self):\n",
    "        super(Regressor, self).__init__()\n",
    "        hiddenUnits = 40\n",
    "        inputDim = outputDim = 1 \n",
    "        self.fc1 = nn.Linear(inputDim,hiddenUnits)\n",
    "        self.fc2 = nn.Linear(hiddenUnits,hiddenUnits)\n",
    "        self.fc3 = nn.Linear(hiddenUnits, outputDim)\n",
    "\n",
    "    def forward(self, x):\n",
    "        x = F.relu(self.fc1(x))\n",
    "        x = F.relu(self.fc2(x))\n",
    "        x = self.fc3(x)\n",
    "        return x\n",
    "    \n",
    "    def plot(self, task, *args, **kwargs):\n",
    "        task.plot()\n",
    "        x, _ = task.samplePointsFromTest()\n",
    "        x = Variable(x[:, None])\n",
    "        y_pred = self.forward(x)\n",
    "        plt.plot(x.numpy(), y_pred.detach().numpy(), *args, **kwargs)"
   ]
  },
  {
   "cell_type": "markdown",
   "metadata": {},
   "source": [
    "The SineTask below generates a random sine wave which has an amplitude between 0.1 and 5 and a phase angle between 0 and $\\pi$. We use this function to sample sine waves that will be used for meta learning. When sampling points from during training, we uniformly sample coordinates along the x axis between -5 to 5 and we use the evaluateSine function to get the corresponding points on the y axis. Below you can see that everytime we create a new SineTask object, we get a different sine wave with a different amplitude and phase. "
   ]
  },
  {
   "cell_type": "code",
   "execution_count": 3,
   "metadata": {},
   "outputs": [
    {
     "data": {
      "image/png": "[encoded data removed]",
      "text/plain": [
       "<Figure size 432x288 with 1 Axes>"
      ]
     },
     "metadata": {
      "needs_background": "light"
     },
     "output_type": "display_data"
    }
   ],
   "source": [
    "class SineTask():\n",
    "    def __init__(self):\n",
    "        self.amplitude = np.random.uniform(0.1, 5.0)\n",
    "        self.phase = np.random.uniform(0, np.pi)\n",
    "        self.xRangeMin = -5\n",
    "        self.xRangeMax = 5\n",
    "    \n",
    "    def samplePointsFromTraining(self,numPoints=10):\n",
    "        x = np.random.uniform(self.xRangeMin, self.xRangeMax,size=numPoints)\n",
    "        return torch.Tensor(x), torch.Tensor(self.evaluateSine(x))\n",
    "    \n",
    "    def evaluateSine(self, sampledPoints):\n",
    "        return self.amplitude*np.sin(sampledPoints + self.phase)   \n",
    "    \n",
    "    def samplePointsFromTest(self, numPoints=50):\n",
    "        x = np.linspace(self.xRangeMin, self.xRangeMax, numPoints)\n",
    "        return torch.Tensor(x), torch.Tensor(self.evaluateSine(x))\n",
    "\n",
    "    def plot(self, *args, **kwargs):\n",
    "        x, y = self.samplePointsFromTest(numPoints=100)\n",
    "        return plt.plot(x.numpy(), y.numpy(), *args, **kwargs)\n",
    "        \n",
    "\n",
    "SineTask().plot()\n",
    "SineTask().plot()\n",
    "SineTask().plot()\n",
    "plt.show()     "
   ]
  },
  {
   "cell_type": "markdown",
   "metadata": {},
   "source": [
    "Now that the sine wave tasks have been defined, we can now start defining the tasks for the Reptile meta learning algorithm. Reptile is very similar to first order MAML defined by Finn. The algorithm goes as follows. \n",
    "\n",
    "For Reptile, first initialize a paramater vector. In our case, create a neural network with parameter $\\Phi$. Note $\\Phi$ is not chosen beforehand, it is just the paramaters of the neural network at initialization. \n",
    "\n",
    "Then for a certain number of meta-iterations, sample a task then take perform SGD for K steps. In this step, you create a secondary model that initially has parameter $\\Phi$ but then as you perform K steps of SGD the paramaters transform from $\\Phi$ to $\\Omega$. \n",
    "\n",
    "Once you have perform K steps of SGD, the original neural network with paramaters $\\Phi$ is updated using the following equation: \n",
    "$\\Phi = \\Phi + \\epsilon(\\Omega - \\Phi)$\n",
    "\n",
    "Then update the model with the new updated parameter $\\Phi$.\n",
    "\n",
    "After repeating this tasks for the number of meta-iterations defined, you return the model with the updated parameters $\\Phi$.\n",
    "\n",
    "Below is the Reptile procedure that takes in a model with paramater $\\Phi$ and we define the total number of metaIteratios, the training set size, and a validation set size to see how well the model generalizes. We use an Adam optimizer for the meta learning and SGD for taking K steps. Furthermore we also define how many gradient steps, K, to take along with the update factor $\\epsilon$. In this procedure, we evaluate how well the model generalizes with the validations set by taking K gradient steps and then measuring the overall loss obtained. "
   ]
  },
  {
   "cell_type": "code",
   "execution_count": 7,
   "metadata": {},
   "outputs": [],
   "source": [
    "def reptileProcedure(model, totalIteration, trainingSetSize, valSetSize, lr_inner, lr_outer, K, epsilon):\n",
    "    optimizer = torch.optim.Adam(model.parameters(), lr=lr_outer)\n",
    "    training_loss = []\n",
    "    validation_loss = []\n",
    "    \n",
    "    trainingSet = [SineTask() for _ in range(trainingSetSize)]\n",
    "    valSet = [SineTask() for _ in range(valSetSize)]\n",
    "\n",
    "    for iteration in range(totalIteration): \n",
    "        sampled_task = random.sample(trainingSet, 1)[0] #sample a task from all training tasks\n",
    "        #take k gradient steps\n",
    "        newModel = takeGradientSteps(model, sampled_task, lr_inner, K)\n",
    "        #from new model update model with new params\n",
    "        for currParams, newParams in zip(model.parameters(), newModel.parameters()):\n",
    "            if currParams.grad is None: #if gradient doesn't exist or not initialized \n",
    "                currParams.grad = Variable(torch.zeros(newParams.size())) #initialize the params for update\n",
    "            currParams.grad.data.add_(epsilon*(currParams.data - newParams.data)) #(update)\n",
    "        #update the model parameters, take step first \n",
    "        #as loss is based on the loss from learner\n",
    "        optimizer.step()\n",
    "        #set optimizer to zero for next iteration of learning \n",
    "        optimizer.zero_grad()\n",
    "        #evaluate meta learning loss on training and validation set\n",
    "        training_loss.append(evaluateModel(newModel, sampled_task))\n",
    "        validationTask = random.sample(valSet, 1)[0]\n",
    "        newModel = takeGradientSteps(model, validationTask, lr_inner, K)\n",
    "        validation_loss.append(evaluateModel(newModel, validationTask))\n",
    "        #during validation, we are testing to see how well the model adjusts to an unseen task after \n",
    "        #k gradient steps\n",
    "        if iteration % 1000 == 0:\n",
    "            print('iteration ' + str(iteration) + \" avg training_loss: \" + str(np.mean(training_loss)))\n",
    "            print('iteration ' + str(iteration) + \" avg validation_loss: \" + str(np.mean(validation_loss)))\n",
    "    return model "
   ]
  },
  {
   "cell_type": "markdown",
   "metadata": {},
   "source": [
    "In the method seen below, we take in the model with parameter $\\Phi$, the sampled task, the learning rate, and K which dictates how many times we perform SGD. Since this task is to predict the points along a sine wave, we use an MSE loss. The procedure below creates a new model and then initializes the new model with parameters $\\Phi$. I then perform K rounds of SGD optimization on the sampled task before returning a new model with parameters $\\Omega$"
   ]
  },
  {
   "cell_type": "code",
   "execution_count": 4,
   "metadata": {},
   "outputs": [],
   "source": [
    "def takeGradientSteps(model, sampled_task, lr_inner, K, plotResult=False,*args, **kwargs):\n",
    "    new_model = Regressor()\n",
    "    #new model parameters equal to initial model parameters \n",
    "    new_model.load_state_dict(model.state_dict()) \n",
    "    loss = nn.MSELoss()\n",
    "    inner_optimizer = torch.optim.SGD(new_model.parameters(), lr=lr_inner)\n",
    "    #take K gradient steps and perform SGD to update parameters \n",
    "    for k in range(K): \n",
    "        x,y_ground = sampled_task.samplePointsFromTraining()\n",
    "        x = Variable(x[:, None]) #pass x and y as column vector\n",
    "        y = Variable(y_ground[:, None])\n",
    "        y_pred = new_model(x)\n",
    "        mseLoss = loss(y_pred, y)\n",
    "        inner_optimizer.zero_grad()\n",
    "        mseLoss.backward()\n",
    "        inner_optimizer.step()\n",
    "    return new_model"
   ]
  },
  {
   "cell_type": "markdown",
   "metadata": {},
   "source": [
    "The method below, takes in the current model and then evaluates the MSE loss obtained between the predicted points from the model and the ground truth points. "
   ]
  },
  {
   "cell_type": "code",
   "execution_count": 5,
   "metadata": {},
   "outputs": [],
   "source": [
    "def evaluateModel(model, task):\n",
    "    x, y = task.samplePointsFromTest()\n",
    "    x = Variable(x[:,None])\n",
    "    y = Variable(y[:,None])\n",
    "    y_pred = model(x)\n",
    "    loss_func = nn.MSELoss()\n",
    "    return loss_func(y, y_pred).data"
   ]
  },
  {
   "cell_type": "markdown",
   "metadata": {},
   "source": [
    "Below we perform the meta learning by first defining all the hyperparameters needed for this procedure and then running the Reptile procedure. I have printed the training set loss and validation loss after every 1000 meta iterations. You can see below that both the training loss and validation loss decreases significantly over time.    "
   ]
  },
  {
   "cell_type": "code",
   "execution_count": 8,
   "metadata": {
    "scrolled": true
   },
   "outputs": [
    {
     "name": "stdout",
     "output_type": "stream",
     "text": [
      "iteration 0 avg training_loss: 7.305396\n",
      "iteration 0 avg validation_loss: 0.1824821\n",
      "iteration 1000 avg training_loss: 1.5666094\n",
      "iteration 1000 avg validation_loss: 1.4971606\n",
      "iteration 2000 avg training_loss: 1.0884101\n",
      "iteration 2000 avg validation_loss: 1.0359132\n",
      "iteration 3000 avg training_loss: 0.8585938\n",
      "iteration 3000 avg validation_loss: 0.79595894\n",
      "iteration 4000 avg training_loss: 0.70460236\n",
      "iteration 4000 avg validation_loss: 0.66326606\n",
      "iteration 5000 avg training_loss: 0.6001728\n",
      "iteration 5000 avg validation_loss: 0.56686664\n",
      "iteration 6000 avg training_loss: 0.52515763\n",
      "iteration 6000 avg validation_loss: 0.49797854\n",
      "iteration 7000 avg training_loss: 0.46754706\n",
      "iteration 7000 avg validation_loss: 0.44234914\n",
      "iteration 8000 avg training_loss: 0.4225347\n",
      "iteration 8000 avg validation_loss: 0.39856204\n",
      "iteration 9000 avg training_loss: 0.38294908\n",
      "iteration 9000 avg validation_loss: 0.36197028\n",
      "iteration 10000 avg training_loss: 0.35119152\n",
      "iteration 10000 avg validation_loss: 0.33320013\n",
      "iteration 11000 avg training_loss: 0.3248375\n",
      "iteration 11000 avg validation_loss: 0.3079171\n",
      "iteration 12000 avg training_loss: 0.30277404\n",
      "iteration 12000 avg validation_loss: 0.28680402\n",
      "iteration 13000 avg training_loss: 0.2829883\n",
      "iteration 13000 avg validation_loss: 0.26849306\n",
      "iteration 14000 avg training_loss: 0.26545662\n",
      "iteration 14000 avg validation_loss: 0.25234511\n",
      "iteration 15000 avg training_loss: 0.25039577\n",
      "iteration 15000 avg validation_loss: 0.23820378\n",
      "iteration 16000 avg training_loss: 0.23691985\n",
      "iteration 16000 avg validation_loss: 0.22564532\n",
      "iteration 17000 avg training_loss: 0.22481208\n",
      "iteration 17000 avg validation_loss: 0.21417384\n",
      "iteration 18000 avg training_loss: 0.21413974\n",
      "iteration 18000 avg validation_loss: 0.20398699\n",
      "iteration 19000 avg training_loss: 0.20436254\n",
      "iteration 19000 avg validation_loss: 0.19477789\n",
      "iteration 20000 avg training_loss: 0.19554554\n",
      "iteration 20000 avg validation_loss: 0.18656105\n",
      "iteration 21000 avg training_loss: 0.1873401\n",
      "iteration 21000 avg validation_loss: 0.17884831\n",
      "iteration 22000 avg training_loss: 0.1798605\n",
      "iteration 22000 avg validation_loss: 0.1717754\n",
      "iteration 23000 avg training_loss: 0.17308305\n",
      "iteration 23000 avg validation_loss: 0.16536117\n",
      "iteration 24000 avg training_loss: 0.16682927\n",
      "iteration 24000 avg validation_loss: 0.15948658\n",
      "iteration 25000 avg training_loss: 0.16106826\n",
      "iteration 25000 avg validation_loss: 0.1539275\n",
      "iteration 26000 avg training_loss: 0.15569863\n",
      "iteration 26000 avg validation_loss: 0.1488277\n",
      "iteration 27000 avg training_loss: 0.15070537\n",
      "iteration 27000 avg validation_loss: 0.14412707\n",
      "iteration 28000 avg training_loss: 0.14602181\n",
      "iteration 28000 avg validation_loss: 0.13971086\n",
      "iteration 29000 avg training_loss: 0.14165543\n",
      "iteration 29000 avg validation_loss: 0.13557532\n",
      "iteration 30000 avg training_loss: 0.1375579\n",
      "iteration 30000 avg validation_loss: 0.13167445\n",
      "iteration 31000 avg training_loss: 0.13372654\n",
      "iteration 31000 avg validation_loss: 0.12802257\n",
      "iteration 32000 avg training_loss: 0.13014475\n",
      "iteration 32000 avg validation_loss: 0.12460772\n",
      "iteration 33000 avg training_loss: 0.12679197\n",
      "iteration 33000 avg validation_loss: 0.121419266\n",
      "iteration 34000 avg training_loss: 0.123595715\n",
      "iteration 34000 avg validation_loss: 0.1183764\n",
      "iteration 35000 avg training_loss: 0.120597936\n",
      "iteration 35000 avg validation_loss: 0.11550934\n",
      "iteration 36000 avg training_loss: 0.1177556\n",
      "iteration 36000 avg validation_loss: 0.11279525\n",
      "iteration 37000 avg training_loss: 0.1150371\n",
      "iteration 37000 avg validation_loss: 0.110211596\n",
      "iteration 38000 avg training_loss: 0.11245141\n",
      "iteration 38000 avg validation_loss: 0.10777597\n",
      "iteration 39000 avg training_loss: 0.11001528\n",
      "iteration 39000 avg validation_loss: 0.10543806\n",
      "iteration 40000 avg training_loss: 0.10768914\n",
      "iteration 40000 avg validation_loss: 0.10323059\n",
      "iteration 41000 avg training_loss: 0.10547019\n",
      "iteration 41000 avg validation_loss: 0.101130895\n",
      "iteration 42000 avg training_loss: 0.103327796\n",
      "iteration 42000 avg validation_loss: 0.09913014\n",
      "iteration 43000 avg training_loss: 0.10131055\n",
      "iteration 43000 avg validation_loss: 0.09720635\n",
      "iteration 44000 avg training_loss: 0.099370435\n",
      "iteration 44000 avg validation_loss: 0.0953553\n",
      "iteration 45000 avg training_loss: 0.09752937\n",
      "iteration 45000 avg validation_loss: 0.093585245\n",
      "iteration 46000 avg training_loss: 0.09575332\n",
      "iteration 46000 avg validation_loss: 0.091866866\n",
      "iteration 47000 avg training_loss: 0.09404178\n",
      "iteration 47000 avg validation_loss: 0.09023361\n",
      "iteration 48000 avg training_loss: 0.09243087\n",
      "iteration 48000 avg validation_loss: 0.08869024\n",
      "iteration 49000 avg training_loss: 0.09084624\n",
      "iteration 49000 avg validation_loss: 0.087192565\n",
      "iteration 50000 avg training_loss: 0.089345254\n",
      "iteration 50000 avg validation_loss: 0.085744396\n",
      "iteration 51000 avg training_loss: 0.087871045\n",
      "iteration 51000 avg validation_loss: 0.08435603\n",
      "iteration 52000 avg training_loss: 0.0864897\n",
      "iteration 52000 avg validation_loss: 0.083037384\n",
      "iteration 53000 avg training_loss: 0.085142486\n",
      "iteration 53000 avg validation_loss: 0.08176064\n",
      "iteration 54000 avg training_loss: 0.083844945\n",
      "iteration 54000 avg validation_loss: 0.08053758\n",
      "iteration 55000 avg training_loss: 0.08260084\n",
      "iteration 55000 avg validation_loss: 0.07933845\n",
      "iteration 56000 avg training_loss: 0.08137932\n",
      "iteration 56000 avg validation_loss: 0.07817845\n",
      "iteration 57000 avg training_loss: 0.08020606\n",
      "iteration 57000 avg validation_loss: 0.077064976\n",
      "iteration 58000 avg training_loss: 0.07907134\n",
      "iteration 58000 avg validation_loss: 0.07596854\n",
      "iteration 59000 avg training_loss: 0.077974446\n",
      "iteration 59000 avg validation_loss: 0.07492654\n",
      "iteration 60000 avg training_loss: 0.0769042\n",
      "iteration 60000 avg validation_loss: 0.073914014\n",
      "iteration 61000 avg training_loss: 0.07591047\n",
      "iteration 61000 avg validation_loss: 0.07293548\n",
      "iteration 62000 avg training_loss: 0.07491177\n",
      "iteration 62000 avg validation_loss: 0.07198342\n",
      "iteration 63000 avg training_loss: 0.073931\n",
      "iteration 63000 avg validation_loss: 0.07106668\n",
      "iteration 64000 avg training_loss: 0.07298663\n",
      "iteration 64000 avg validation_loss: 0.07016177\n",
      "iteration 65000 avg training_loss: 0.07207272\n",
      "iteration 65000 avg validation_loss: 0.06929045\n",
      "iteration 66000 avg training_loss: 0.07118757\n",
      "iteration 66000 avg validation_loss: 0.068440855\n",
      "iteration 67000 avg training_loss: 0.07032765\n",
      "iteration 67000 avg validation_loss: 0.06761148\n",
      "iteration 68000 avg training_loss: 0.06948104\n",
      "iteration 68000 avg validation_loss: 0.06680395\n",
      "iteration 69000 avg training_loss: 0.06866599\n",
      "iteration 69000 avg validation_loss: 0.066021815\n",
      "iteration 70000 avg training_loss: 0.06788\n",
      "iteration 70000 avg validation_loss: 0.06526434\n",
      "iteration 71000 avg training_loss: 0.06709716\n",
      "iteration 71000 avg validation_loss: 0.06452938\n",
      "iteration 72000 avg training_loss: 0.066350274\n",
      "iteration 72000 avg validation_loss: 0.06381915\n",
      "iteration 73000 avg training_loss: 0.06561529\n",
      "iteration 73000 avg validation_loss: 0.063127026\n",
      "iteration 74000 avg training_loss: 0.06490859\n",
      "iteration 74000 avg validation_loss: 0.062449563\n",
      "iteration 75000 avg training_loss: 0.06421634\n",
      "iteration 75000 avg validation_loss: 0.06179497\n",
      "iteration 76000 avg training_loss: 0.06354774\n",
      "iteration 76000 avg validation_loss: 0.06114852\n",
      "iteration 77000 avg training_loss: 0.062881544\n",
      "iteration 77000 avg validation_loss: 0.060517527\n",
      "iteration 78000 avg training_loss: 0.06223133\n",
      "iteration 78000 avg validation_loss: 0.05989198\n",
      "iteration 79000 avg training_loss: 0.0616029\n",
      "iteration 79000 avg validation_loss: 0.05929877\n",
      "iteration 80000 avg training_loss: 0.060990863\n",
      "iteration 80000 avg validation_loss: 0.058707494\n",
      "iteration 81000 avg training_loss: 0.060394462\n",
      "iteration 81000 avg validation_loss: 0.058145694\n",
      "iteration 82000 avg training_loss: 0.05980979\n",
      "iteration 82000 avg validation_loss: 0.057585314\n",
      "iteration 83000 avg training_loss: 0.059229925\n",
      "iteration 83000 avg validation_loss: 0.05704269\n",
      "iteration 84000 avg training_loss: 0.058673956\n",
      "iteration 84000 avg validation_loss: 0.05652158\n",
      "iteration 85000 avg training_loss: 0.058132548\n",
      "iteration 85000 avg validation_loss: 0.05599514\n",
      "iteration 86000 avg training_loss: 0.05760133\n",
      "iteration 86000 avg validation_loss: 0.05548458\n",
      "iteration 87000 avg training_loss: 0.057081994\n"
     ]
    },
    {
     "name": "stdout",
     "output_type": "stream",
     "text": [
      "iteration 87000 avg validation_loss: 0.054990664\n",
      "iteration 88000 avg training_loss: 0.056576233\n",
      "iteration 88000 avg validation_loss: 0.054507613\n",
      "iteration 89000 avg training_loss: 0.05607722\n",
      "iteration 89000 avg validation_loss: 0.054032773\n",
      "iteration 90000 avg training_loss: 0.05559463\n",
      "iteration 90000 avg validation_loss: 0.053564187\n",
      "iteration 91000 avg training_loss: 0.055120848\n",
      "iteration 91000 avg validation_loss: 0.053112257\n",
      "iteration 92000 avg training_loss: 0.054661345\n",
      "iteration 92000 avg validation_loss: 0.052663118\n",
      "iteration 93000 avg training_loss: 0.05419912\n",
      "iteration 93000 avg validation_loss: 0.05222197\n",
      "iteration 94000 avg training_loss: 0.0537509\n",
      "iteration 94000 avg validation_loss: 0.05179878\n",
      "iteration 95000 avg training_loss: 0.053318966\n",
      "iteration 95000 avg validation_loss: 0.051380243\n",
      "iteration 96000 avg training_loss: 0.052893396\n",
      "iteration 96000 avg validation_loss: 0.05097206\n",
      "iteration 97000 avg training_loss: 0.05247278\n",
      "iteration 97000 avg validation_loss: 0.05056754\n",
      "iteration 98000 avg training_loss: 0.05206319\n",
      "iteration 98000 avg validation_loss: 0.05017256\n",
      "iteration 99000 avg training_loss: 0.051654827\n",
      "iteration 99000 avg validation_loss: 0.04978427\n"
     ]
    }
   ],
   "source": [
    "metaIterations = 100000\n",
    "K = 10\n",
    "lr_inner=0.01\n",
    "lr_outer=0.001\n",
    "training_set_size = 10000\n",
    "test_set_size = 1000\n",
    "overallModel = Regressor()\n",
    "epsilon = 1\n",
    "meta_learned_model = reptileProcedure(overallModel,metaIterations,training_set_size,test_set_size,lr_inner,lr_outer, K, epsilon)"
   ]
  },
  {
   "cell_type": "markdown",
   "metadata": {},
   "source": [
    "Once we get the meta learned model from performing Reptile procedure, below we can visualize how well this model generalizes to unseen sine wave variables. We can see that after taking only 4 gradient steps, the model is able to almost perfectly predict all points along the unseen sine wave. "
   ]
  },
  {
   "cell_type": "code",
   "execution_count": 10,
   "metadata": {},
   "outputs": [
    {
     "data": {
      "text/plain": [
       "<matplotlib.legend.Legend at 0x7f8e54b2aac8>"
      ]
     },
     "execution_count": 10,
     "metadata": {},
     "output_type": "execute_result"
    },
    {
     "data": {
      "image/png": "[encoded data removed]",
      "text/plain": [
       "<Figure size 432x288 with 1 Axes>"
      ]
     },
     "metadata": {
      "needs_background": "light"
     },
     "output_type": "display_data"
    }
   ],
   "source": [
    "testTask = SineTask()\n",
    "testTask.plot(label='ground truth', linewidth=2.0)\n",
    "meta_learned_model.plot(testTask, label=\"after \" + str(0) + \" gradient steps\")\n",
    "for k in range(1,5):\n",
    "    new_model = takeGradientSteps(meta_learned_model, testTask, lr_inner, K=k, plotResult=True )\n",
    "    labelk = \"after \" + str(k) + \" gradient steps\"\n",
    "    new_model.plot(testTask, label=labelk)\n",
    "plt.legend()"
   ]
  }
 ],
 "metadata": {
  "kernelspec": {
   "display_name": "Python 3",
   "language": "python",
   "name": "python3"
  },
  "language_info": {
   "codemirror_mode": {
    "name": "ipython",
    "version": 3
   },
   "file_extension": ".py",
   "mimetype": "text/x-python",
   "name": "python",
   "nbconvert_exporter": "python",
   "pygments_lexer": "ipython3",
   "version": "3.7.3"
  }
 },
 "nbformat": 4,
 "nbformat_minor": 2
}
